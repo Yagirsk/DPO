{
 "cells": [
  {
   "cell_type": "markdown",
   "metadata": {},
   "source": [
    "# Первый computational notebook"
   ]
  },
  {
   "cell_type": "markdown",
   "metadata": {},
   "source": [
    "## Упражнение: Вычисление числа pi с помощью метода Монте-Карло"
   ]
  },
  {
   "cell_type": "markdown",
   "metadata": {},
   "source": [
    "1. Создайте новый блокнот , назовите его и добавьте заголовок (ячейку в формате\n",
    "markdown ниже)."
   ]
  },
  {
   "cell_type": "markdown",
   "metadata": {},
   "source": [
    "# Вычисление числа pi с помощью метода Монте - Карло"
   ]
  },
  {
   "cell_type": "markdown",
   "metadata": {},
   "source": [
    "2. Зафиксируйте соответствующие формулы в новой ячейке (ячейке с Markdown):"
   ]
  },
  {
   "cell_type": "markdown",
   "metadata": {},
   "source": [
    "- Площадь квадрата: $S = (2 R)^2$   \n",
    "- Площадь круга: $C = \\pi R^2$ \n",
    "- $C/S = (\\pi R^2)/(4R^2) = \\pi /4$\n",
    "- $\\pi = 4 * C/S$"
   ]
  },
  {
   "cell_type": "markdown",
   "metadata": {},
   "source": [
    "3. Добавьте изображение для пояснения концепции (ячейка markdown):"
   ]
  },
  {
   "attachments": {
    "image-2.png": {
     "image/png": "[encoded data removed]"
    }
   },
   "cell_type": "markdown",
   "metadata": {},
   "source": [
    "![image-2.png](attachment:image-2.png)"
   ]
  },
  {
   "cell_type": "markdown",
   "metadata": {},
   "source": [
    "4. Импортируйте два модуля, которые нам понадобятся (ячейка с кодом):"
   ]
  },
  {
   "cell_type": "code",
   "execution_count": 14,
   "metadata": {},
   "outputs": [
    {
     "name": "stdout",
     "output_type": "stream",
     "text": [
      "Collecting matplotlib\n",
      "  Using cached matplotlib-3.9.2-cp312-cp312-win_amd64.whl.metadata (11 kB)\n",
      "Collecting contourpy>=1.0.1 (from matplotlib)\n",
      "  Using cached contourpy-1.3.0-cp312-cp312-win_amd64.whl.metadata (5.4 kB)\n",
      "Collecting cycler>=0.10 (from matplotlib)\n",
      "  Using cached cycler-0.12.1-py3-none-any.whl.metadata (3.8 kB)\n",
      "Collecting fonttools>=4.22.0 (from matplotlib)\n",
      "  Using cached fonttools-4.54.1-cp312-cp312-win_amd64.whl.metadata (167 kB)\n",
      "Collecting kiwisolver>=1.3.1 (from matplotlib)\n",
      "  Using cached kiwisolver-1.4.7-cp312-cp312-win_amd64.whl.metadata (6.4 kB)\n",
      "Collecting numpy>=1.23 (from matplotlib)\n",
      "  Using cached numpy-2.1.2-cp312-cp312-win_amd64.whl.metadata (59 kB)\n",
      "Requirement already satisfied: packaging>=20.0 in c:\\users\\bushm\\appdata\\local\\programs\\python\\python312\\lib\\site-packages (from matplotlib) (24.1)\n",
      "Collecting pillow>=8 (from matplotlib)\n",
      "  Using cached pillow-11.0.0-cp312-cp312-win_amd64.whl.metadata (9.3 kB)\n",
      "Collecting pyparsing>=2.3.1 (from matplotlib)\n",
      "  Using cached pyparsing-3.2.0-py3-none-any.whl.metadata (5.0 kB)\n",
      "Requirement already satisfied: python-dateutil>=2.7 in c:\\users\\bushm\\appdata\\local\\programs\\python\\python312\\lib\\site-packages (from matplotlib) (2.9.0.post0)\n",
      "Requirement already satisfied: six>=1.5 in c:\\users\\bushm\\appdata\\local\\programs\\python\\python312\\lib\\site-packages (from python-dateutil>=2.7->matplotlib) (1.16.0)\n",
      "Downloading matplotlib-3.9.2-cp312-cp312-win_amd64.whl (7.8 MB)\n",
      "   ---------------------------------------- 0.0/7.8 MB ? eta -:--:--\n",
      "   ---------------------------------------- 0.0/7.8 MB ? eta -:--:--\n",
      "   ---------------------------------------- 0.0/7.8 MB ? eta -:--:--\n",
      "   - -------------------------------------- 0.3/7.8 MB ? eta -:--:--\n",
      "   - -------------------------------------- 0.3/7.8 MB ? eta -:--:--\n",
      "   - -------------------------------------- 0.3/7.8 MB ? eta -:--:--\n",
      "   -- ------------------------------------- 0.5/7.8 MB 409.0 kB/s eta 0:00:18\n",
      "   -- ------------------------------------- 0.5/7.8 MB 409.0 kB/s eta 0:00:18\n",
      "   -- ------------------------------------- 0.5/7.8 MB 409.0 kB/s eta 0:00:18\n",
      "   ---- ----------------------------------- 0.8/7.8 MB 430.1 kB/s eta 0:00:17\n",
      "   ---- ----------------------------------- 0.8/7.8 MB 430.1 kB/s eta 0:00:17\n",
      "   ---- ----------------------------------- 0.8/7.8 MB 430.1 kB/s eta 0:00:17\n",
      "   ----- ---------------------------------- 1.0/7.8 MB 405.8 kB/s eta 0:00:17\n",
      "   ----- ---------------------------------- 1.0/7.8 MB 405.8 kB/s eta 0:00:17\n",
      "   ----- ---------------------------------- 1.0/7.8 MB 405.8 kB/s eta 0:00:17\n",
      "   ----- ---------------------------------- 1.0/7.8 MB 405.8 kB/s eta 0:00:17\n",
      "   ------ --------------------------------- 1.3/7.8 MB 379.1 kB/s eta 0:00:18\n",
      "   ------ --------------------------------- 1.3/7.8 MB 379.1 kB/s eta 0:00:18\n",
      "   ------ --------------------------------- 1.3/7.8 MB 379.1 kB/s eta 0:00:18\n",
      "   ------ --------------------------------- 1.3/7.8 MB 379.1 kB/s eta 0:00:18\n",
      "   -------- ------------------------------- 1.6/7.8 MB 366.2 kB/s eta 0:00:18\n",
      "   -------- ------------------------------- 1.6/7.8 MB 366.2 kB/s eta 0:00:18\n",
      "   -------- ------------------------------- 1.6/7.8 MB 366.2 kB/s eta 0:00:18\n",
      "   --------- ------------------------------ 1.8/7.8 MB 374.1 kB/s eta 0:00:17\n",
      "   --------- ------------------------------ 1.8/7.8 MB 374.1 kB/s eta 0:00:17\n",
      "   --------- ------------------------------ 1.8/7.8 MB 374.1 kB/s eta 0:00:17\n",
      "   ---------- ----------------------------- 2.1/7.8 MB 374.0 kB/s eta 0:00:16\n",
      "   ---------- ----------------------------- 2.1/7.8 MB 374.0 kB/s eta 0:00:16\n",
      "   ---------- ----------------------------- 2.1/7.8 MB 374.0 kB/s eta 0:00:16\n",
      "   ---------- ----------------------------- 2.1/7.8 MB 374.0 kB/s eta 0:00:16\n",
      "   ------------ --------------------------- 2.4/7.8 MB 366.7 kB/s eta 0:00:15\n",
      "   ------------ --------------------------- 2.4/7.8 MB 366.7 kB/s eta 0:00:15\n",
      "   ------------ --------------------------- 2.4/7.8 MB 366.7 kB/s eta 0:00:15\n",
      "   ------------ --------------------------- 2.4/7.8 MB 366.7 kB/s eta 0:00:15\n",
      "   ------------- -------------------------- 2.6/7.8 MB 359.5 kB/s eta 0:00:15\n",
      "   ------------- -------------------------- 2.6/7.8 MB 359.5 kB/s eta 0:00:15\n",
      "   ------------- -------------------------- 2.6/7.8 MB 359.5 kB/s eta 0:00:15\n",
      "   -------------- ------------------------- 2.9/7.8 MB 362.3 kB/s eta 0:00:14\n",
      "   -------------- ------------------------- 2.9/7.8 MB 362.3 kB/s eta 0:00:14\n",
      "   -------------- ------------------------- 2.9/7.8 MB 362.3 kB/s eta 0:00:14\n",
      "   ---------------- ----------------------- 3.1/7.8 MB 361.9 kB/s eta 0:00:13\n",
      "   ---------------- ----------------------- 3.1/7.8 MB 361.9 kB/s eta 0:00:13\n",
      "   ---------------- ----------------------- 3.1/7.8 MB 361.9 kB/s eta 0:00:13\n",
      "   ----------------- ---------------------- 3.4/7.8 MB 364.7 kB/s eta 0:00:13\n",
      "   ----------------- ---------------------- 3.4/7.8 MB 364.7 kB/s eta 0:00:13\n",
      "   ----------------- ---------------------- 3.4/7.8 MB 364.7 kB/s eta 0:00:13\n",
      "   ------------------ --------------------- 3.7/7.8 MB 365.9 kB/s eta 0:00:12\n",
      "   ------------------ --------------------- 3.7/7.8 MB 365.9 kB/s eta 0:00:12\n",
      "   ------------------ --------------------- 3.7/7.8 MB 365.9 kB/s eta 0:00:12\n",
      "   ------------------ --------------------- 3.7/7.8 MB 365.9 kB/s eta 0:00:12\n",
      "   -------------------- ------------------- 3.9/7.8 MB 361.9 kB/s eta 0:00:11\n",
      "   -------------------- ------------------- 3.9/7.8 MB 361.9 kB/s eta 0:00:11\n",
      "   -------------------- ------------------- 3.9/7.8 MB 361.9 kB/s eta 0:00:11\n",
      "   -------------------- ------------------- 3.9/7.8 MB 361.9 kB/s eta 0:00:11\n",
      "   --------------------- ------------------ 4.2/7.8 MB 360.5 kB/s eta 0:00:11\n",
      "   --------------------- ------------------ 4.2/7.8 MB 360.5 kB/s eta 0:00:11\n",
      "   --------------------- ------------------ 4.2/7.8 MB 360.5 kB/s eta 0:00:11\n",
      "   ---------------------- ----------------- 4.5/7.8 MB 362.7 kB/s eta 0:00:10\n",
      "   ---------------------- ----------------- 4.5/7.8 MB 362.7 kB/s eta 0:00:10\n",
      "   ---------------------- ----------------- 4.5/7.8 MB 362.7 kB/s eta 0:00:10\n",
      "   ------------------------ --------------- 4.7/7.8 MB 366.6 kB/s eta 0:00:09\n",
      "   ------------------------ --------------- 4.7/7.8 MB 366.6 kB/s eta 0:00:09\n",
      "   ------------------------- -------------- 5.0/7.8 MB 375.1 kB/s eta 0:00:08\n",
      "   ------------------------- -------------- 5.0/7.8 MB 375.1 kB/s eta 0:00:08\n",
      "   -------------------------- ------------- 5.2/7.8 MB 381.8 kB/s eta 0:00:07\n",
      "   -------------------------- ------------- 5.2/7.8 MB 381.8 kB/s eta 0:00:07\n",
      "   ---------------------------- ----------- 5.5/7.8 MB 387.9 kB/s eta 0:00:07\n",
      "   ---------------------------- ----------- 5.5/7.8 MB 387.9 kB/s eta 0:00:07\n",
      "   ----------------------------- ---------- 5.8/7.8 MB 395.8 kB/s eta 0:00:06\n",
      "   ----------------------------- ---------- 5.8/7.8 MB 395.8 kB/s eta 0:00:06\n",
      "   ------------------------------ --------- 6.0/7.8 MB 401.6 kB/s eta 0:00:05\n",
      "   ------------------------------ --------- 6.0/7.8 MB 401.6 kB/s eta 0:00:05\n",
      "   -------------------------------- ------- 6.3/7.8 MB 407.5 kB/s eta 0:00:04\n",
      "   -------------------------------- ------- 6.3/7.8 MB 407.5 kB/s eta 0:00:04\n",
      "   --------------------------------- ------ 6.6/7.8 MB 411.7 kB/s eta 0:00:04\n",
      "   --------------------------------- ------ 6.6/7.8 MB 411.7 kB/s eta 0:00:04\n",
      "   --------------------------------- ------ 6.6/7.8 MB 411.7 kB/s eta 0:00:04\n",
      "   ---------------------------------- ----- 6.8/7.8 MB 413.2 kB/s eta 0:00:03\n",
      "   ------------------------------------ --- 7.1/7.8 MB 420.2 kB/s eta 0:00:02\n",
      "   ------------------------------------ --- 7.1/7.8 MB 420.2 kB/s eta 0:00:02\n",
      "   ------------------------------------ --- 7.1/7.8 MB 420.2 kB/s eta 0:00:02\n",
      "   ------------------------------------- -- 7.3/7.8 MB 424.5 kB/s eta 0:00:02\n",
      "   -------------------------------------- - 7.6/7.8 MB 429.0 kB/s eta 0:00:01\n",
      "   -------------------------------------- - 7.6/7.8 MB 429.0 kB/s eta 0:00:01\n",
      "   -------------------------------------- - 7.6/7.8 MB 429.0 kB/s eta 0:00:01\n",
      "   ---------------------------------------- 7.8/7.8 MB 430.3 kB/s eta 0:00:00\n",
      "Downloading contourpy-1.3.0-cp312-cp312-win_amd64.whl (218 kB)\n",
      "Downloading cycler-0.12.1-py3-none-any.whl (8.3 kB)\n",
      "Downloading fonttools-4.54.1-cp312-cp312-win_amd64.whl (2.2 MB)\n",
      "   ---------------------------------------- 0.0/2.2 MB ? eta -:--:--\n",
      "   ---------------------------------------- 0.0/2.2 MB ? eta -:--:--\n",
      "   ---- ----------------------------------- 0.3/2.2 MB ? eta -:--:--\n",
      "   ---- ----------------------------------- 0.3/2.2 MB ? eta -:--:--\n",
      "   --------- ------------------------------ 0.5/2.2 MB 699.0 kB/s eta 0:00:03\n",
      "   --------- ------------------------------ 0.5/2.2 MB 699.0 kB/s eta 0:00:03\n",
      "   -------------- ------------------------- 0.8/2.2 MB 645.7 kB/s eta 0:00:03\n",
      "   -------------- ------------------------- 0.8/2.2 MB 645.7 kB/s eta 0:00:03\n",
      "   ------------------- -------------------- 1.0/2.2 MB 637.3 kB/s eta 0:00:02\n",
      "   ----------------------- ---------------- 1.3/2.2 MB 651.7 kB/s eta 0:00:02\n",
      "   ----------------------- ---------------- 1.3/2.2 MB 651.7 kB/s eta 0:00:02\n",
      "   ---------------------------- ----------- 1.6/2.2 MB 650.5 kB/s eta 0:00:01\n",
      "   ---------------------------- ----------- 1.6/2.2 MB 650.5 kB/s eta 0:00:01\n",
      "   ---------------------------- ----------- 1.6/2.2 MB 650.5 kB/s eta 0:00:01\n",
      "   --------------------------------- ------ 1.8/2.2 MB 633.2 kB/s eta 0:00:01\n",
      "   --------------------------------- ------ 1.8/2.2 MB 633.2 kB/s eta 0:00:01\n",
      "   -------------------------------------- - 2.1/2.2 MB 624.8 kB/s eta 0:00:01\n",
      "   ---------------------------------------- 2.2/2.2 MB 602.3 kB/s eta 0:00:00\n",
      "Downloading kiwisolver-1.4.7-cp312-cp312-win_amd64.whl (55 kB)\n",
      "Downloading numpy-2.1.2-cp312-cp312-win_amd64.whl (12.6 MB)\n",
      "   ---------------------------------------- 0.0/12.6 MB ? eta -:--:--\n",
      "   ---------------------------------------- 0.0/12.6 MB ? eta -:--:--\n",
      "    --------------------------------------- 0.3/12.6 MB ? eta -:--:--\n",
      "    --------------------------------------- 0.3/12.6 MB ? eta -:--:--\n",
      "   - -------------------------------------- 0.5/12.6 MB 699.0 kB/s eta 0:00:18\n",
      "   - -------------------------------------- 0.5/12.6 MB 699.0 kB/s eta 0:00:18\n",
      "   -- ------------------------------------- 0.8/12.6 MB 589.1 kB/s eta 0:00:21\n",
      "   -- ------------------------------------- 0.8/12.6 MB 589.1 kB/s eta 0:00:21\n",
      "   --- ------------------------------------ 1.0/12.6 MB 585.6 kB/s eta 0:00:20\n",
      "   --- ------------------------------------ 1.0/12.6 MB 585.6 kB/s eta 0:00:20\n",
      "   ---- ----------------------------------- 1.3/12.6 MB 621.6 kB/s eta 0:00:19\n",
      "   ---- ----------------------------------- 1.3/12.6 MB 621.6 kB/s eta 0:00:19\n",
      "   ---- ----------------------------------- 1.3/12.6 MB 621.6 kB/s eta 0:00:19\n",
      "   ----- ---------------------------------- 1.6/12.6 MB 559.4 kB/s eta 0:00:20\n",
      "   ----- ---------------------------------- 1.8/12.6 MB 581.9 kB/s eta 0:00:19\n",
      "   ----- ---------------------------------- 1.8/12.6 MB 581.9 kB/s eta 0:00:19\n",
      "   ----- ---------------------------------- 1.8/12.6 MB 581.9 kB/s eta 0:00:19\n",
      "   ------ --------------------------------- 2.1/12.6 MB 578.5 kB/s eta 0:00:19\n",
      "   ------- -------------------------------- 2.4/12.6 MB 604.7 kB/s eta 0:00:17\n",
      "   -------- ------------------------------- 2.6/12.6 MB 624.0 kB/s eta 0:00:16\n",
      "   -------- ------------------------------- 2.6/12.6 MB 624.0 kB/s eta 0:00:16\n",
      "   --------- ------------------------------ 2.9/12.6 MB 630.8 kB/s eta 0:00:16\n",
      "   --------- ------------------------------ 2.9/12.6 MB 630.8 kB/s eta 0:00:16\n",
      "   ---------- ----------------------------- 3.1/12.6 MB 632.1 kB/s eta 0:00:15\n",
      "   ---------- ----------------------------- 3.1/12.6 MB 632.1 kB/s eta 0:00:15\n",
      "   ---------- ----------------------------- 3.4/12.6 MB 633.2 kB/s eta 0:00:15\n",
      "   ----------- ---------------------------- 3.7/12.6 MB 643.4 kB/s eta 0:00:14\n",
      "   ----------- ---------------------------- 3.7/12.6 MB 643.4 kB/s eta 0:00:14\n",
      "   ------------ --------------------------- 3.9/12.6 MB 661.6 kB/s eta 0:00:14\n",
      "   ------------- -------------------------- 4.2/12.6 MB 676.6 kB/s eta 0:00:13\n",
      "   -------------- ------------------------- 4.5/12.6 MB 688.4 kB/s eta 0:00:12\n",
      "   --------------- ------------------------ 4.7/12.6 MB 700.8 kB/s eta 0:00:12\n",
      "   --------------- ------------------------ 5.0/12.6 MB 717.3 kB/s eta 0:00:11\n",
      "   ---------------- ----------------------- 5.2/12.6 MB 731.2 kB/s eta 0:00:11\n",
      "   ---------------- ----------------------- 5.2/12.6 MB 731.2 kB/s eta 0:00:11\n",
      "   ----------------- ---------------------- 5.5/12.6 MB 744.0 kB/s eta 0:00:10\n",
      "   ------------------ --------------------- 5.8/12.6 MB 756.1 kB/s eta 0:00:09\n",
      "   ------------------- -------------------- 6.0/12.6 MB 765.8 kB/s eta 0:00:09\n",
      "   ------------------- -------------------- 6.0/12.6 MB 765.8 kB/s eta 0:00:09\n",
      "   -------------------- ------------------- 6.3/12.6 MB 755.2 kB/s eta 0:00:09\n",
      "   -------------------- ------------------- 6.3/12.6 MB 755.2 kB/s eta 0:00:09\n",
      "   -------------------- ------------------- 6.3/12.6 MB 755.2 kB/s eta 0:00:09\n",
      "   -------------------- ------------------- 6.3/12.6 MB 755.2 kB/s eta 0:00:09\n",
      "   -------------------- ------------------- 6.3/12.6 MB 755.2 kB/s eta 0:00:09\n",
      "   -------------------- ------------------- 6.3/12.6 MB 755.2 kB/s eta 0:00:09\n",
      "   -------------------- ------------------- 6.3/12.6 MB 755.2 kB/s eta 0:00:09\n",
      "   -------------------- ------------------- 6.3/12.6 MB 755.2 kB/s eta 0:00:09\n",
      "   -------------------- ------------------- 6.3/12.6 MB 755.2 kB/s eta 0:00:09\n",
      "   -------------------- ------------------- 6.3/12.6 MB 755.2 kB/s eta 0:00:09\n",
      "   -------------------- ------------------- 6.3/12.6 MB 755.2 kB/s eta 0:00:09\n",
      "   -------------------- ------------------- 6.3/12.6 MB 755.2 kB/s eta 0:00:09\n",
      "   -------------------- ------------------- 6.3/12.6 MB 755.2 kB/s eta 0:00:09\n",
      "   -------------------- ------------------- 6.3/12.6 MB 755.2 kB/s eta 0:00:09\n",
      "   -------------------- ------------------- 6.3/12.6 MB 755.2 kB/s eta 0:00:09\n",
      "   -------------------- ------------------- 6.3/12.6 MB 755.2 kB/s eta 0:00:09\n",
      "   -------------------- ------------------- 6.3/12.6 MB 755.2 kB/s eta 0:00:09\n",
      "   -------------------- ------------------- 6.3/12.6 MB 755.2 kB/s eta 0:00:09\n",
      "   -------------------- ------------------- 6.3/12.6 MB 755.2 kB/s eta 0:00:09\n",
      "   -------------------- ------------------- 6.3/12.6 MB 755.2 kB/s eta 0:00:09\n",
      "   -------------------- ------------------- 6.3/12.6 MB 755.2 kB/s eta 0:00:09\n",
      "   -------------------- ------------------- 6.3/12.6 MB 755.2 kB/s eta 0:00:09\n",
      "   -------------------- ------------------- 6.3/12.6 MB 755.2 kB/s eta 0:00:09\n",
      "   -------------------- ------------------- 6.3/12.6 MB 755.2 kB/s eta 0:00:09\n",
      "   -------------------- ------------------- 6.3/12.6 MB 755.2 kB/s eta 0:00:09\n",
      "   -------------------- ------------------- 6.3/12.6 MB 755.2 kB/s eta 0:00:09\n",
      "   -------------------- ------------------- 6.3/12.6 MB 755.2 kB/s eta 0:00:09\n",
      "   -------------------- ------------------- 6.3/12.6 MB 755.2 kB/s eta 0:00:09\n",
      "   -------------------- ------------------- 6.3/12.6 MB 755.2 kB/s eta 0:00:09\n",
      "   -------------------- ------------------- 6.3/12.6 MB 755.2 kB/s eta 0:00:09\n",
      "   -------------------- ------------------- 6.3/12.6 MB 755.2 kB/s eta 0:00:09\n",
      "   -------------------- ------------------- 6.3/12.6 MB 755.2 kB/s eta 0:00:09\n",
      "   -------------------- ------------------- 6.3/12.6 MB 755.2 kB/s eta 0:00:09\n",
      "   -------------------- ------------------- 6.3/12.6 MB 755.2 kB/s eta 0:00:09\n",
      "   -------------------- ------------------- 6.3/12.6 MB 755.2 kB/s eta 0:00:09\n",
      "   -------------------- ------------------- 6.3/12.6 MB 755.2 kB/s eta 0:00:09\n",
      "   -------------------- ------------------- 6.3/12.6 MB 755.2 kB/s eta 0:00:09\n",
      "   -------------------- ------------------- 6.3/12.6 MB 755.2 kB/s eta 0:00:09\n",
      "   -------------------- ------------------- 6.3/12.6 MB 755.2 kB/s eta 0:00:09\n",
      "   -------------------- ------------------- 6.3/12.6 MB 755.2 kB/s eta 0:00:09\n",
      "   -------------------- ------------------- 6.3/12.6 MB 755.2 kB/s eta 0:00:09\n",
      "   -------------------- ------------------- 6.3/12.6 MB 755.2 kB/s eta 0:00:09\n",
      "   -------------------- ------------------- 6.3/12.6 MB 755.2 kB/s eta 0:00:09\n",
      "   -------------------- ------------------- 6.3/12.6 MB 755.2 kB/s eta 0:00:09\n",
      "   -------------------- ------------------- 6.3/12.6 MB 755.2 kB/s eta 0:00:09\n",
      "   -------------------- ------------------- 6.3/12.6 MB 755.2 kB/s eta 0:00:09\n",
      "   -------------------- ------------------- 6.3/12.6 MB 755.2 kB/s eta 0:00:09\n",
      "   -------------------- ------------------- 6.3/12.6 MB 755.2 kB/s eta 0:00:09\n",
      "   -------------------- ------------------- 6.3/12.6 MB 755.2 kB/s eta 0:00:09\n",
      "   -------------------- ------------------- 6.3/12.6 MB 755.2 kB/s eta 0:00:09\n",
      "   -------------------- ------------------- 6.3/12.6 MB 755.2 kB/s eta 0:00:09\n",
      "   -------------------- ------------------- 6.6/12.6 MB 331.7 kB/s eta 0:00:19\n",
      "   --------------------- ------------------ 6.8/12.6 MB 341.0 kB/s eta 0:00:17\n",
      "   --------------------- ------------------ 6.8/12.6 MB 341.0 kB/s eta 0:00:17\n",
      "   --------------------- ------------------ 6.8/12.6 MB 341.0 kB/s eta 0:00:17\n",
      "   ---------------------- ----------------- 7.1/12.6 MB 344.0 kB/s eta 0:00:16\n",
      "   ---------------------- ----------------- 7.1/12.6 MB 344.0 kB/s eta 0:00:16\n",
      "   ---------------------- ----------------- 7.1/12.6 MB 344.0 kB/s eta 0:00:16\n",
      "   ---------------------- ----------------- 7.1/12.6 MB 344.0 kB/s eta 0:00:16\n",
      "   ---------------------- ----------------- 7.1/12.6 MB 344.0 kB/s eta 0:00:16\n",
      "   ---------------------- ----------------- 7.1/12.6 MB 344.0 kB/s eta 0:00:16\n",
      "   ---------------------- ----------------- 7.1/12.6 MB 344.0 kB/s eta 0:00:16\n",
      "   ---------------------- ----------------- 7.1/12.6 MB 344.0 kB/s eta 0:00:16\n",
      "   ---------------------- ----------------- 7.1/12.6 MB 344.0 kB/s eta 0:00:16\n",
      "   ---------------------- ----------------- 7.1/12.6 MB 344.0 kB/s eta 0:00:16\n",
      "   ---------------------- ----------------- 7.1/12.6 MB 344.0 kB/s eta 0:00:16\n",
      "   ---------------------- ----------------- 7.1/12.6 MB 344.0 kB/s eta 0:00:16\n",
      "   ---------------------- ----------------- 7.1/12.6 MB 344.0 kB/s eta 0:00:16\n",
      "   ---------------------- ----------------- 7.1/12.6 MB 344.0 kB/s eta 0:00:16\n",
      "   ---------------------- ----------------- 7.1/12.6 MB 344.0 kB/s eta 0:00:16\n",
      "   ---------------------- ----------------- 7.1/12.6 MB 344.0 kB/s eta 0:00:16\n",
      "   ---------------------- ----------------- 7.1/12.6 MB 344.0 kB/s eta 0:00:16\n",
      "   ---------------------- ----------------- 7.1/12.6 MB 344.0 kB/s eta 0:00:16\n",
      "   ---------------------- ----------------- 7.1/12.6 MB 344.0 kB/s eta 0:00:16\n",
      "   ---------------------- ----------------- 7.1/12.6 MB 344.0 kB/s eta 0:00:16\n",
      "   ---------------------- ----------------- 7.1/12.6 MB 344.0 kB/s eta 0:00:16\n",
      "   ---------------------- ----------------- 7.1/12.6 MB 344.0 kB/s eta 0:00:16\n",
      "   ---------------------- ----------------- 7.1/12.6 MB 344.0 kB/s eta 0:00:16\n",
      "   ---------------------- ----------------- 7.1/12.6 MB 344.0 kB/s eta 0:00:16\n",
      "   ---------------------- ----------------- 7.1/12.6 MB 344.0 kB/s eta 0:00:16\n",
      "   ---------------------- ----------------- 7.1/12.6 MB 344.0 kB/s eta 0:00:16\n",
      "   ---------------------- ----------------- 7.1/12.6 MB 344.0 kB/s eta 0:00:16\n",
      "   ----------------------- ---------------- 7.3/12.6 MB 276.7 kB/s eta 0:00:19\n",
      "   ----------------------- ---------------- 7.3/12.6 MB 276.7 kB/s eta 0:00:19\n",
      "   ----------------------- ---------------- 7.3/12.6 MB 276.7 kB/s eta 0:00:19\n",
      "   ----------------------- ---------------- 7.3/12.6 MB 276.7 kB/s eta 0:00:19\n",
      "   ------------------------ --------------- 7.6/12.6 MB 279.1 kB/s eta 0:00:18\n",
      "   ------------------------- -------------- 7.9/12.6 MB 286.0 kB/s eta 0:00:17\n",
      "   ------------------------- -------------- 7.9/12.6 MB 286.0 kB/s eta 0:00:17\n",
      "   ------------------------- -------------- 8.1/12.6 MB 290.8 kB/s eta 0:00:16\n",
      "   ------------------------- -------------- 8.1/12.6 MB 290.8 kB/s eta 0:00:16\n",
      "   -------------------------- ------------- 8.4/12.6 MB 296.0 kB/s eta 0:00:15\n",
      "   -------------------------- ------------- 8.4/12.6 MB 296.0 kB/s eta 0:00:15\n",
      "   -------------------------- ------------- 8.4/12.6 MB 296.0 kB/s eta 0:00:15\n",
      "   -------------------------- ------------- 8.4/12.6 MB 296.0 kB/s eta 0:00:15\n",
      "   -------------------------- ------------- 8.4/12.6 MB 296.0 kB/s eta 0:00:15\n",
      "   -------------------------- ------------- 8.4/12.6 MB 296.0 kB/s eta 0:00:15\n",
      "   -------------------------- ------------- 8.4/12.6 MB 296.0 kB/s eta 0:00:15\n",
      "   -------------------------- ------------- 8.4/12.6 MB 296.0 kB/s eta 0:00:15\n",
      "   -------------------------- ------------- 8.4/12.6 MB 296.0 kB/s eta 0:00:15\n",
      "   -------------------------- ------------- 8.4/12.6 MB 296.0 kB/s eta 0:00:15\n",
      "   -------------------------- ------------- 8.4/12.6 MB 296.0 kB/s eta 0:00:15\n",
      "   -------------------------- ------------- 8.4/12.6 MB 296.0 kB/s eta 0:00:15\n",
      "   -------------------------- ------------- 8.4/12.6 MB 296.0 kB/s eta 0:00:15\n",
      "   -------------------------- ------------- 8.4/12.6 MB 296.0 kB/s eta 0:00:15\n",
      "   -------------------------- ------------- 8.4/12.6 MB 296.0 kB/s eta 0:00:15\n",
      "   -------------------------- ------------- 8.4/12.6 MB 296.0 kB/s eta 0:00:15\n",
      "   -------------------------- ------------- 8.4/12.6 MB 296.0 kB/s eta 0:00:15\n",
      "   -------------------------- ------------- 8.4/12.6 MB 296.0 kB/s eta 0:00:15\n",
      "   -------------------------- ------------- 8.4/12.6 MB 296.0 kB/s eta 0:00:15\n",
      "   -------------------------- ------------- 8.4/12.6 MB 296.0 kB/s eta 0:00:15\n",
      "   -------------------------- ------------- 8.4/12.6 MB 296.0 kB/s eta 0:00:15\n",
      "   -------------------------- ------------- 8.4/12.6 MB 296.0 kB/s eta 0:00:15\n",
      "   -------------------------- ------------- 8.4/12.6 MB 296.0 kB/s eta 0:00:15\n",
      "   -------------------------- ------------- 8.4/12.6 MB 296.0 kB/s eta 0:00:15\n",
      "   -------------------------- ------------- 8.4/12.6 MB 296.0 kB/s eta 0:00:15\n",
      "   -------------------------- ------------- 8.4/12.6 MB 296.0 kB/s eta 0:00:15\n",
      "   -------------------------- ------------- 8.4/12.6 MB 296.0 kB/s eta 0:00:15\n",
      "   -------------------------- ------------- 8.4/12.6 MB 296.0 kB/s eta 0:00:15\n",
      "   -------------------------- ------------- 8.4/12.6 MB 296.0 kB/s eta 0:00:15\n",
      "   -------------------------- ------------- 8.4/12.6 MB 296.0 kB/s eta 0:00:15\n",
      "   -------------------------- ------------- 8.4/12.6 MB 296.0 kB/s eta 0:00:15\n",
      "   -------------------------- ------------- 8.4/12.6 MB 296.0 kB/s eta 0:00:15\n",
      "   -------------------------- ------------- 8.4/12.6 MB 296.0 kB/s eta 0:00:15\n",
      "   -------------------------- ------------- 8.4/12.6 MB 296.0 kB/s eta 0:00:15\n",
      "   -------------------------- ------------- 8.4/12.6 MB 296.0 kB/s eta 0:00:15\n",
      "   -------------------------- ------------- 8.4/12.6 MB 296.0 kB/s eta 0:00:15\n",
      "   -------------------------- ------------- 8.4/12.6 MB 296.0 kB/s eta 0:00:15\n",
      "   -------------------------- ------------- 8.4/12.6 MB 296.0 kB/s eta 0:00:15\n",
      "   -------------------------- ------------- 8.4/12.6 MB 296.0 kB/s eta 0:00:15\n",
      "   -------------------------- ------------- 8.4/12.6 MB 296.0 kB/s eta 0:00:15\n",
      "   -------------------------- ------------- 8.4/12.6 MB 296.0 kB/s eta 0:00:15\n",
      "   -------------------------- ------------- 8.4/12.6 MB 296.0 kB/s eta 0:00:15\n",
      "   -------------------------- ------------- 8.4/12.6 MB 296.0 kB/s eta 0:00:15\n",
      "   -------------------------- ------------- 8.4/12.6 MB 296.0 kB/s eta 0:00:15\n",
      "   -------------------------- ------------- 8.4/12.6 MB 296.0 kB/s eta 0:00:15\n",
      "   -------------------------- ------------- 8.4/12.6 MB 296.0 kB/s eta 0:00:15\n",
      "   -------------------------- ------------- 8.4/12.6 MB 296.0 kB/s eta 0:00:15\n",
      "   -------------------------- ------------- 8.4/12.6 MB 296.0 kB/s eta 0:00:15\n",
      "   -------------------------- ------------- 8.4/12.6 MB 296.0 kB/s eta 0:00:15\n",
      "   -------------------------- ------------- 8.4/12.6 MB 296.0 kB/s eta 0:00:15\n",
      "   -------------------------- ------------- 8.4/12.6 MB 296.0 kB/s eta 0:00:15\n",
      "   -------------------------- ------------- 8.4/12.6 MB 296.0 kB/s eta 0:00:15\n",
      "   -------------------------- ------------- 8.4/12.6 MB 296.0 kB/s eta 0:00:15\n",
      "   -------------------------- ------------- 8.4/12.6 MB 296.0 kB/s eta 0:00:15\n",
      "   -------------------------- ------------- 8.4/12.6 MB 296.0 kB/s eta 0:00:15\n",
      "   -------------------------- ------------- 8.4/12.6 MB 296.0 kB/s eta 0:00:15\n",
      "   -------------------------- ------------- 8.4/12.6 MB 296.0 kB/s eta 0:00:15\n",
      "   -------------------------- ------------- 8.4/12.6 MB 296.0 kB/s eta 0:00:15\n",
      "   --------------------------- ------------ 8.7/12.6 MB 101.2 kB/s eta 0:00:39\n",
      "   --------------------------- ------------ 8.7/12.6 MB 101.2 kB/s eta 0:00:39\n",
      "   --------------------------- ------------ 8.7/12.6 MB 101.2 kB/s eta 0:00:39\n",
      "   --------------------------- ------------ 8.7/12.6 MB 101.2 kB/s eta 0:00:39\n",
      "   --------------------------- ------------ 8.7/12.6 MB 101.2 kB/s eta 0:00:39\n",
      "   ---------------------------- ----------- 8.9/12.6 MB 108.1 kB/s eta 0:00:34\n",
      "   ---------------------------- ----------- 8.9/12.6 MB 108.1 kB/s eta 0:00:34\n",
      "   ---------------------------- ----------- 8.9/12.6 MB 108.1 kB/s eta 0:00:34\n",
      "   ----------------------------- ---------- 9.2/12.6 MB 117.2 kB/s eta 0:00:29\n",
      "   ----------------------------- ---------- 9.2/12.6 MB 117.2 kB/s eta 0:00:29\n",
      "   ------------------------------ --------- 9.4/12.6 MB 125.8 kB/s eta 0:00:25\n",
      "   ------------------------------ --------- 9.4/12.6 MB 125.8 kB/s eta 0:00:25\n",
      "   ------------------------------ --------- 9.7/12.6 MB 134.9 kB/s eta 0:00:22\n",
      "   ------------------------------ --------- 9.7/12.6 MB 134.9 kB/s eta 0:00:22\n",
      "   ------------------------------ --------- 9.7/12.6 MB 134.9 kB/s eta 0:00:22\n",
      "   ------------------------------- -------- 10.0/12.6 MB 142.6 kB/s eta 0:00:19\n",
      "   ------------------------------- -------- 10.0/12.6 MB 142.6 kB/s eta 0:00:19\n",
      "   ------------------------------- -------- 10.0/12.6 MB 142.6 kB/s eta 0:00:19\n",
      "   ------------------------------- -------- 10.0/12.6 MB 142.6 kB/s eta 0:00:19\n",
      "   -------------------------------- ------- 10.2/12.6 MB 148.8 kB/s eta 0:00:16\n",
      "   -------------------------------- ------- 10.2/12.6 MB 148.8 kB/s eta 0:00:16\n",
      "   --------------------------------- ------ 10.5/12.6 MB 156.1 kB/s eta 0:00:14\n",
      "   --------------------------------- ------ 10.5/12.6 MB 156.1 kB/s eta 0:00:14\n",
      "   --------------------------------- ------ 10.5/12.6 MB 156.1 kB/s eta 0:00:14\n",
      "   ---------------------------------- ----- 10.7/12.6 MB 162.3 kB/s eta 0:00:12\n",
      "   ---------------------------------- ----- 10.7/12.6 MB 162.3 kB/s eta 0:00:12\n",
      "   ---------------------------------- ----- 10.7/12.6 MB 162.3 kB/s eta 0:00:12\n",
      "   ----------------------------------- ---- 11.0/12.6 MB 167.8 kB/s eta 0:00:10\n",
      "   ----------------------------------- ---- 11.0/12.6 MB 167.8 kB/s eta 0:00:10\n",
      "   ----------------------------------- ---- 11.3/12.6 MB 174.8 kB/s eta 0:00:08\n",
      "   ----------------------------------- ---- 11.3/12.6 MB 174.8 kB/s eta 0:00:08\n",
      "   ------------------------------------ --- 11.5/12.6 MB 181.8 kB/s eta 0:00:06\n",
      "   ------------------------------------ --- 11.5/12.6 MB 181.8 kB/s eta 0:00:06\n",
      "   ------------------------------------- -- 11.8/12.6 MB 188.8 kB/s eta 0:00:05\n",
      "   ------------------------------------- -- 11.8/12.6 MB 188.8 kB/s eta 0:00:05\n",
      "   -------------------------------------- - 12.1/12.6 MB 195.5 kB/s eta 0:00:03\n",
      "   -------------------------------------- - 12.1/12.6 MB 195.5 kB/s eta 0:00:03\n",
      "   ---------------------------------------  12.3/12.6 MB 202.5 kB/s eta 0:00:02\n",
      "   ---------------------------------------- 12.6/12.6 MB 208.3 kB/s eta 0:00:00\n",
      "Downloading pillow-11.0.0-cp312-cp312-win_amd64.whl (2.6 MB)\n",
      "   ---------------------------------------- 0.0/2.6 MB ? eta -:--:--\n",
      "   ---------------------------------------- 0.0/2.6 MB ? eta -:--:--\n",
      "   ---------------------------------------- 0.0/2.6 MB ? eta -:--:--\n",
      "   ---- ----------------------------------- 0.3/2.6 MB ? eta -:--:--\n",
      "   ---- ----------------------------------- 0.3/2.6 MB ? eta -:--:--\n",
      "   ---- ----------------------------------- 0.3/2.6 MB ? eta -:--:--\n",
      "   -------- ------------------------------- 0.5/2.6 MB 453.5 kB/s eta 0:00:05\n",
      "   -------- ------------------------------- 0.5/2.6 MB 453.5 kB/s eta 0:00:05\n",
      "   ------------ --------------------------- 0.8/2.6 MB 479.2 kB/s eta 0:00:04\n",
      "   ------------ --------------------------- 0.8/2.6 MB 479.2 kB/s eta 0:00:04\n",
      "   ---------------- ----------------------- 1.0/2.6 MB 524.3 kB/s eta 0:00:03\n",
      "   ---------------- ----------------------- 1.0/2.6 MB 524.3 kB/s eta 0:00:03\n",
      "   -------------------- ------------------- 1.3/2.6 MB 563.8 kB/s eta 0:00:03\n",
      "   ------------------------ --------------- 1.6/2.6 MB 582.5 kB/s eta 0:00:02\n",
      "   ------------------------ --------------- 1.6/2.6 MB 582.5 kB/s eta 0:00:02\n",
      "   ---------------------------- ----------- 1.8/2.6 MB 592.0 kB/s eta 0:00:02\n",
      "   ---------------------------- ----------- 1.8/2.6 MB 592.0 kB/s eta 0:00:02\n",
      "   -------------------------------- ------- 2.1/2.6 MB 593.1 kB/s eta 0:00:01\n",
      "   -------------------------------- ------- 2.1/2.6 MB 593.1 kB/s eta 0:00:01\n",
      "   -------------------------------- ------- 2.1/2.6 MB 593.1 kB/s eta 0:00:01\n",
      "   -------------------------------- ------- 2.1/2.6 MB 593.1 kB/s eta 0:00:01\n",
      "   ------------------------------------ --- 2.4/2.6 MB 543.3 kB/s eta 0:00:01\n",
      "   ------------------------------------ --- 2.4/2.6 MB 543.3 kB/s eta 0:00:01\n",
      "   ---------------------------------------- 2.6/2.6 MB 542.4 kB/s eta 0:00:00\n",
      "Downloading pyparsing-3.2.0-py3-none-any.whl (106 kB)\n",
      "Installing collected packages: pyparsing, pillow, numpy, kiwisolver, fonttools, cycler, contourpy, matplotlib\n",
      "Successfully installed contourpy-1.3.0 cycler-0.12.1 fonttools-4.54.1 kiwisolver-1.4.7 matplotlib-3.9.2 numpy-2.1.2 pillow-11.0.0 pyparsing-3.2.0\n"
     ]
    },
    {
     "name": "stderr",
     "output_type": "stream",
     "text": [
      "\n",
      "[notice] A new release of pip is available: 24.2 -> 24.3.1\n",
      "[notice] To update, run: python.exe -m pip install --upgrade pip\n"
     ]
    }
   ],
   "source": [
    "!python -m pip install matplotlib"
   ]
  },
  {
   "cell_type": "code",
   "execution_count": 15,
   "metadata": {},
   "outputs": [],
   "source": [
    "import random\n",
    "import matplotlib.pyplot as plt"
   ]
  },
  {
   "cell_type": "markdown",
   "metadata": {},
   "source": [
    "5. Инициализируйте количество точек (ячейка с кодом):"
   ]
  },
  {
   "cell_type": "code",
   "execution_count": 24,
   "metadata": {},
   "outputs": [],
   "source": [
    "num_points = 1000000"
   ]
  },
  {
   "cell_type": "markdown",
   "metadata": {},
   "source": [
    "6. Броски дротиков (ячейка с кодом):"
   ]
  },
  {
   "cell_type": "code",
   "execution_count": 25,
   "metadata": {},
   "outputs": [],
   "source": [
    "points = []\n",
    "hits = 0\n",
    "for _ in range (num_points):\n",
    "    x, y = random.random(), random.random()\n",
    "    if x*x + y*y < 1.0:\n",
    "        hits += 1\n",
    "        points.append((x,y, \"black\"))\n",
    "    else:\n",
    "        points.append((x,y, \"magenta\"))"
   ]
  },
  {
   "cell_type": "markdown",
   "metadata": {},
   "source": [
    "7. Построение графика результатов (ячейка с кодом):"
   ]
  },
  {
   "cell_type": "code",
   "execution_count": 26,
   "metadata": {},
   "outputs": [
    {
     "data": {
      "text/plain": [
       "<matplotlib.collections.PathCollection at 0x2e25c4789e0>"
      ]
     },
     "execution_count": 26,
     "metadata": {},
     "output_type": "execute_result"
    },
    {
     "data": {
      "image/png": "[encoded data removed]",
      "text/plain": [
       "<Figure size 700x700 with 1 Axes>"
      ]
     },
     "metadata": {},
     "output_type": "display_data"
    }
   ],
   "source": [
    "x, y, colors = zip(*points)\n",
    "\n",
    "fig, ax = plt.subplots()\n",
    "fig.set_size_inches(7.0, 7.0)\n",
    "\n",
    "ax.scatter(x, y, c=colors)"
   ]
  },
  {
   "cell_type": "markdown",
   "metadata": {},
   "source": [
    "8. Вычислите оценку для pi (ячейка с кодом):"
   ]
  },
  {
   "cell_type": "code",
   "execution_count": 27,
   "metadata": {},
   "outputs": [
    {
     "data": {
      "text/plain": [
       "3.139364"
      ]
     },
     "execution_count": 27,
     "metadata": {},
     "output_type": "execute_result"
    }
   ],
   "source": [
    "fraction = hits / num_points\n",
    "4 * fraction"
   ]
  },
  {
   "cell_type": "markdown",
   "metadata": {},
   "source": [
    "## Блокноты и контроль версий"
   ]
  },
  {
   "cell_type": "markdown",
   "metadata": {},
   "source": [
    "### Упражнение: что происходит без `requirements.txt`?"
   ]
  },
  {
   "cell_type": "code",
   "execution_count": 1,
   "metadata": {},
   "outputs": [
    {
     "name": "stderr",
     "output_type": "stream",
     "text": [
      "\n",
      "[notice] A new release of pip is available: 24.2 -> 24.3.1\n",
      "[notice] To update, run: python.exe -m pip install --upgrade pip\n",
      "ERROR: Could not open requirements file: [Errno 2] No such file or directory: 'requirements.txt'\n"
     ]
    }
   ],
   "source": [
    "!python -m pip install -r requirements.txt"
   ]
  },
  {
   "cell_type": "markdown",
   "metadata": {},
   "source": [
    "### Добавление виджета в задание 1"
   ]
  },
  {
   "cell_type": "code",
   "execution_count": 2,
   "metadata": {},
   "outputs": [
    {
     "name": "stdout",
     "output_type": "stream",
     "text": [
      "Requirement already satisfied: ipywidgets in c:\\users\\bushm\\appdata\\local\\programs\\python\\python312\\lib\\site-packages (8.1.5)\n",
      "Requirement already satisfied: comm>=0.1.3 in c:\\users\\bushm\\appdata\\local\\programs\\python\\python312\\lib\\site-packages (from ipywidgets) (0.2.2)\n",
      "Requirement already satisfied: ipython>=6.1.0 in c:\\users\\bushm\\appdata\\local\\programs\\python\\python312\\lib\\site-packages (from ipywidgets) (8.28.0)\n",
      "Requirement already satisfied: traitlets>=4.3.1 in c:\\users\\bushm\\appdata\\local\\programs\\python\\python312\\lib\\site-packages (from ipywidgets) (5.14.3)\n",
      "Requirement already satisfied: widgetsnbextension~=4.0.12 in c:\\users\\bushm\\appdata\\local\\programs\\python\\python312\\lib\\site-packages (from ipywidgets) (4.0.13)\n",
      "Requirement already satisfied: jupyterlab-widgets~=3.0.12 in c:\\users\\bushm\\appdata\\local\\programs\\python\\python312\\lib\\site-packages (from ipywidgets) (3.0.13)\n",
      "Requirement already satisfied: decorator in c:\\users\\bushm\\appdata\\local\\programs\\python\\python312\\lib\\site-packages (from ipython>=6.1.0->ipywidgets) (5.1.1)\n",
      "Requirement already satisfied: jedi>=0.16 in c:\\users\\bushm\\appdata\\local\\programs\\python\\python312\\lib\\site-packages (from ipython>=6.1.0->ipywidgets) (0.19.1)\n",
      "Requirement already satisfied: matplotlib-inline in c:\\users\\bushm\\appdata\\local\\programs\\python\\python312\\lib\\site-packages (from ipython>=6.1.0->ipywidgets) (0.1.7)\n",
      "Requirement already satisfied: prompt-toolkit<3.1.0,>=3.0.41 in c:\\users\\bushm\\appdata\\local\\programs\\python\\python312\\lib\\site-packages (from ipython>=6.1.0->ipywidgets) (3.0.48)\n",
      "Requirement already satisfied: pygments>=2.4.0 in c:\\users\\bushm\\appdata\\local\\programs\\python\\python312\\lib\\site-packages (from ipython>=6.1.0->ipywidgets) (2.18.0)\n",
      "Requirement already satisfied: stack-data in c:\\users\\bushm\\appdata\\local\\programs\\python\\python312\\lib\\site-packages (from ipython>=6.1.0->ipywidgets) (0.6.3)\n",
      "Requirement already satisfied: colorama in c:\\users\\bushm\\appdata\\local\\programs\\python\\python312\\lib\\site-packages (from ipython>=6.1.0->ipywidgets) (0.4.6)\n",
      "Requirement already satisfied: parso<0.9.0,>=0.8.3 in c:\\users\\bushm\\appdata\\local\\programs\\python\\python312\\lib\\site-packages (from jedi>=0.16->ipython>=6.1.0->ipywidgets) (0.8.4)\n",
      "Requirement already satisfied: wcwidth in c:\\users\\bushm\\appdata\\local\\programs\\python\\python312\\lib\\site-packages (from prompt-toolkit<3.1.0,>=3.0.41->ipython>=6.1.0->ipywidgets) (0.2.13)\n",
      "Requirement already satisfied: executing>=1.2.0 in c:\\users\\bushm\\appdata\\local\\programs\\python\\python312\\lib\\site-packages (from stack-data->ipython>=6.1.0->ipywidgets) (2.1.0)\n",
      "Requirement already satisfied: asttokens>=2.1.0 in c:\\users\\bushm\\appdata\\local\\programs\\python\\python312\\lib\\site-packages (from stack-data->ipython>=6.1.0->ipywidgets) (2.4.1)\n",
      "Requirement already satisfied: pure-eval in c:\\users\\bushm\\appdata\\local\\programs\\python\\python312\\lib\\site-packages (from stack-data->ipython>=6.1.0->ipywidgets) (0.2.3)\n",
      "Requirement already satisfied: six>=1.12.0 in c:\\users\\bushm\\appdata\\local\\programs\\python\\python312\\lib\\site-packages (from asttokens>=2.1.0->stack-data->ipython>=6.1.0->ipywidgets) (1.16.0)\n"
     ]
    },
    {
     "name": "stderr",
     "output_type": "stream",
     "text": [
      "\n",
      "[notice] A new release of pip is available: 24.2 -> 24.3.1\n",
      "[notice] To update, run: python.exe -m pip install --upgrade pip\n"
     ]
    }
   ],
   "source": [
    "!python -m pip install ipywidgets"
   ]
  },
  {
   "cell_type": "code",
   "execution_count": 9,
   "metadata": {},
   "outputs": [],
   "source": [
    "from matplotlib import pyplot\n",
    "import random\n",
    "from ipywidgets import interact, widgets\n",
    "\n",
    "%matplotlib inline\n",
    "\n",
    "\n",
    "def throw_darts(num_points):\n",
    "    points = []\n",
    "    hits = 0\n",
    "    for _ in range(num_points):\n",
    "        x, y = random.random(), random.random()\n",
    "        if x*x + y*y < 1.0:\n",
    "            hits += 1\n",
    "            points.append((x, y, True))\n",
    "        else:\n",
    "            points.append((x, y, False))\n",
    "    fraction = hits / num_points\n",
    "    pi = 4 * fraction\n",
    "    return pi, points\n",
    "\n",
    "\n",
    "def create_plot(points):\n",
    "    x, y, colors = zip(*points)\n",
    "    pyplot.scatter(x, y, c=colors)\n",
    "\n",
    "\n",
    "def experiment(num_points):\n",
    "    pi, points = throw_darts(num_points)\n",
    "    create_plot(points)\n",
    "    print(\"approximation:\", pi)"
   ]
  },
  {
   "cell_type": "code",
   "execution_count": 5,
   "metadata": {},
   "outputs": [
    {
     "ename": "NameError",
     "evalue": "name 'interact' is not defined",
     "output_type": "error",
     "traceback": [
      "\u001b[1;31m---------------------------------------------------------------------------\u001b[0m",
      "\u001b[1;31mNameError\u001b[0m                                 Traceback (most recent call last)",
      "Cell \u001b[1;32mIn[5], line 1\u001b[0m\n\u001b[1;32m----> 1\u001b[0m \u001b[43minteract\u001b[49m(experiment, num_points\u001b[38;5;241m=\u001b[39mwidgets\u001b[38;5;241m.\u001b[39mIntSlider(\u001b[38;5;28mmin\u001b[39m\u001b[38;5;241m=\u001b[39m\u001b[38;5;241m100\u001b[39m, \u001b[38;5;28mmax\u001b[39m\u001b[38;5;241m=\u001b[39m\u001b[38;5;241m10000\u001b[39m, step\u001b[38;5;241m=\u001b[39m\u001b[38;5;241m100\u001b[39m, value\u001b[38;5;241m=\u001b[39m\u001b[38;5;241m10000\u001b[39m))\n",
      "\u001b[1;31mNameError\u001b[0m: name 'interact' is not defined"
     ]
    }
   ],
   "source": [
    "interact(experiment, num_points=widgets.IntSlider(min=100, max=10000, step=100, value=10000))"
   ]
  }
 ],
 "metadata": {
  "kernelspec": {
   "display_name": "Python 3",
   "language": "python",
   "name": "python3"
  },
  "language_info": {
   "codemirror_mode": {
    "name": "ipython",
    "version": 3
   },
   "file_extension": ".py",
   "mimetype": "text/x-python",
   "name": "python",
   "nbconvert_exporter": "python",
   "pygments_lexer": "ipython3",
   "version": "3.12.7"
  }
 },
 "nbformat": 4,
 "nbformat_minor": 2
}
